{
 "cells": [
  {
   "cell_type": "code",
   "execution_count": 54,
   "metadata": {},
   "outputs": [
    {
     "name": "stdout",
     "output_type": "stream",
     "text": [
      "\t\t!!Welcome to the Guessing Game!!\n",
      "\n",
      "\n",
      "\n",
      "I have choosed a number between 1 and 10 could you guess it ? \n",
      " \n",
      "Guess the number between 1 and 10 : 5\n",
      "Ok! you choose 5\n",
      "\n",
      "Wrong Guess! I am Larger than that!\n",
      "\n",
      "\n",
      " 2 Chances Left!\n",
      "\n",
      "Try Again : 6\n",
      "Wrong Guess! I am Larger than that!\n",
      "\n",
      "\n",
      " 1 Chances Left!\n",
      "\n",
      "Try Again : 8\n",
      "Wrong Guess! I am Smaller than that!\n",
      "\n",
      "\n",
      " 0 Chances Left!\n",
      "\n",
      "!!!Game Over!!!\n",
      " I guessesed 7\n"
     ]
    }
   ],
   "source": [
    "# Guessing Game\n",
    "\n",
    "import random\n",
    "        \n",
    "    \n",
    "class Game():\n",
    "    \n",
    "    def intro():\n",
    "        print(\"\\t\\t!!Welcome to the Guessing Game!!\\n\\n\\n\")\n",
    "   \n",
    "    def number_func():\n",
    "        global number\n",
    "        number = random.randint(1,10)\n",
    "  \n",
    "    def guess_func():\n",
    "        global guess\n",
    "        print(\"I have choosed a number between 1 and 10 could you guess it ? \\n \")\n",
    "        guess = int(input(\"Guess the number between 1 and 10 : \"))\n",
    "        \n",
    "        if guess < 10 and guess > 0:\n",
    "             print(\"Ok! you choose {}\\n\".format(guess))\n",
    "        else:\n",
    "            return \"please enter a number between 1 and 10 only!\"\n",
    "    global count\n",
    "    count = 0\n",
    "    \n",
    "    def result():\n",
    "        global guess\n",
    "        global number\n",
    "        global count\n",
    "\n",
    "\n",
    "        while(guess != number):\n",
    "            count += 1\n",
    "            diff = guess-number\n",
    "            if diff<0:\n",
    "                print(\"Wrong Guess! I am Larger than that!\\n\\n\")\n",
    "                print(\" {} Chances Left!\\n\".format(3-count))\n",
    "                \n",
    "\n",
    "\n",
    "            if diff>0:\n",
    "                print(\"Wrong Guess! I am Smaller than that!\\n\\n\")\n",
    "                print(\" {} Chances Left!\\n\".format(3-count))\n",
    "                \n",
    "            if (count < 3):\n",
    "                guess = int(input(\"Try Again : \"))\n",
    "            else:\n",
    "                print(\"!!!Game Over!!!\\n I guessesed {}\".format(number))\n",
    "                break\n",
    "        if guess == number:\n",
    "            print(\"oh Yes! I choosed {}\".format(number))\n",
    "    \n",
    "    intro()\n",
    "    number_func()\n",
    "    guess_func()\n",
    "    result()"
   ]
  },
  {
   "cell_type": "code",
   "execution_count": null,
   "metadata": {},
   "outputs": [],
   "source": []
  },
  {
   "cell_type": "code",
   "execution_count": null,
   "metadata": {},
   "outputs": [],
   "source": []
  },
  {
   "cell_type": "code",
   "execution_count": null,
   "metadata": {},
   "outputs": [],
   "source": []
  },
  {
   "cell_type": "code",
   "execution_count": null,
   "metadata": {},
   "outputs": [],
   "source": []
  },
  {
   "cell_type": "code",
   "execution_count": null,
   "metadata": {},
   "outputs": [],
   "source": []
  },
  {
   "cell_type": "code",
   "execution_count": null,
   "metadata": {},
   "outputs": [],
   "source": []
  }
 ],
 "metadata": {
  "kernelspec": {
   "display_name": "Python 3",
   "language": "python",
   "name": "python3"
  },
  "language_info": {
   "codemirror_mode": {
    "name": "ipython",
    "version": 3
   },
   "file_extension": ".py",
   "mimetype": "text/x-python",
   "name": "python",
   "nbconvert_exporter": "python",
   "pygments_lexer": "ipython3",
   "version": "3.8.3"
  }
 },
 "nbformat": 4,
 "nbformat_minor": 4
}
