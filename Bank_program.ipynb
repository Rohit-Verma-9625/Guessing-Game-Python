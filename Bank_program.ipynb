{
  "nbformat": 4,
  "nbformat_minor": 0,
  "metadata": {
    "kernelspec": {
      "display_name": "Python 3",
      "language": "python",
      "name": "python3"
    },
    "language_info": {
      "codemirror_mode": {
        "name": "ipython",
        "version": 3
      },
      "file_extension": ".py",
      "mimetype": "text/x-python",
      "name": "python",
      "nbconvert_exporter": "python",
      "pygments_lexer": "ipython3",
      "version": "3.8.3"
    },
    "colab": {
      "name": "Bank_program.ipynb",
      "provenance": [],
      "include_colab_link": true
    }
  },
  "cells": [
    {
      "cell_type": "markdown",
      "metadata": {
        "id": "view-in-github",
        "colab_type": "text"
      },
      "source": [
        "<a href=\"https://colab.research.google.com/github/Rohit-Verma-9625/Python-Projects/blob/main/Bank_program.ipynb\" target=\"_parent\"><img src=\"https://colab.research.google.com/assets/colab-badge.svg\" alt=\"Open In Colab\"/></a>"
      ]
    },
    {
      "cell_type": "code",
      "metadata": {
        "colab": {
          "base_uri": "https://localhost:8080/",
          "height": 1000
        },
        "id": "RLImss5oSYDA",
        "outputId": "d4020e6d-4221-44b3-d869-d3f12be8bf18"
      },
      "source": [
        "# Bank Program written by rohit verma in python 3. \n",
        "import random\n",
        "class Bank:\n",
        "    \n",
        "    \n",
        "    def __init__(self):\n",
        "        self.balance = 0\n",
        "    \n",
        "    def intro():\n",
        "        print(\"!! Welcome to Verma Bank limited!! \\n  !Trust is our Priority!\\n \")\n",
        "        print(\"Please open your account with us!\\nIf you open account now, we will gift you some amount between 100 to 1000\\n\")\n",
        "        \n",
        "        \n",
        "    def get_info(self):\n",
        "        global gift_amount\n",
        "        global name\n",
        "        global age\n",
        "        global address\n",
        "        \n",
        "        name = input(\"Enter Name : \")\n",
        "        age  = int(input(\"What is your Age:\"))\n",
        "        \n",
        "        \n",
        "        address = input(\"Address: \")\n",
        "        gift_amount = random.randint(100,1000)\n",
        "        self.balance += gift_amount\n",
        "        print(\"\\n\\t\\t\\tYay! you won {} from us.This is added in your account!\\n\\t\\t\\t\\tThank you for opening your account with us!\\n\\t\\t\\t\\t your account number is VBL0123962527\\n\".format(gift_amount))\n",
        "    \n",
        "    def account_actions(self):\n",
        "        print(\"\\t\\t\\t Main Menu\\n 1. Withdraw money \\n 2.Deposit money \\n 3.Account Details. \")\n",
        "        choice = int(input(\"Enter your choice:\"))\n",
        "        \n",
        "        if choice == 1 :\n",
        "            withdrawn = int(input(\"Enter the amount to be withdrawn: \"))\n",
        "            if withdrawn <= self.balance:\n",
        "                self.balance -= withdrawn\n",
        "                print(\"You have successfully withdrawn {}rs. from your account\".format(withdrawn))\n",
        "                print(\"Balance: {}\".format(self.balance))\n",
        "                s.account_actions()\n",
        "            else:\n",
        "                print(\"Insufficient Balance \\n you only have {} amount in your account!\".format(self.balance))\n",
        "         \n",
        "        if choice == 2 :\n",
        "            deposit = int(input(\"Enter the amount to be deposited:\"))\n",
        "            self.balance += deposit\n",
        "            print(\"{}rs successfully deposited in your account\\n\".format(deposit))\n",
        "            print(\"Balance: {}\".format(self.balance))              \n",
        "            s.account_actions()\n",
        "        if choice == 3:\n",
        "            print(\"\\t\\t !!Verma Bank Limited!!\\n\")\n",
        "            print(\"Your Account details:\\n\")\n",
        "            print(\"Name: {}\".format(name))\n",
        "            print(\"Age: {}\".format(age))\n",
        "            print(\"Address: {}\".format(address))\n",
        "            print(\"Balance: {}\".format(self.balance))\n",
        "            print(\"Account number: VBL0123962527\")\n",
        "            s.account_actions()\n",
        "        else:\n",
        "          \n",
        "          return None\n",
        "          
        "          \n",
        "    intro()\n",
        "s = Bank()        \n",
        "s.get_info()\n",
        "s.account_actions()"
      ],
      "execution_count": 6,
      "outputs": [
        {
          "output_type": "stream",
          "text": [
            "!! Welcome to Verma Bank limited!! \n",
            "  !Trust is our Priority!\n",
            " \n",
            "Please open your account with us!\n",
            "If you open account now, we will gift you some amount between 100 to 1000\n",
            "\n",
            "Enter Name : Rohit Verma\n",
            "What is your Age:19\n",
            "Address: New Delhi\n",
            "\n",
            "\t\t\tYay! you won 979 from us.This is added in your account!\n",
            "\t\t\t\tThank you for opening your account with us!\n",
            "\t\t\t\t your account number is VBL0123962527\n",
            "\n",
            "\t\t\t Main Menu\n",
            " 1. Withdraw money \n",
            " 2.Deposit money \n",
            " 3.Account Details. \n",
            "Enter your choice:1\n",
            "Enter the amount to be withdrawn: 500\n",
            "You have successfully withdrawn 500rs. from your account\n",
            "Balance: 479\n",
            "\t\t\t Main Menu\n",
            " 1. Withdraw money \n",
            " 2.Deposit money \n",
            " 3.Account Details. \n",
            "Enter your choice:2\n",
            "Enter the amount to be deposited:1200\n",
            "1200rs successfully deposited in your account\n",
            "\n",
            "Balance: 1679\n",
            "\t\t\t Main Menu\n",
            " 1. Withdraw money \n",
            " 2.Deposit money \n",
            " 3.Account Details. \n",
            "Enter your choice:3\n",
            "\t\t !!Verma Bank Limited!!\n",
            "\n",
            "Your Account details:\n",
            "\n",
            "Name: Rohit Verma\n",
            "Age: 19\n",
            "Address: New Delhi\n",
            "Balance: 1679\n",
            "Account number: VBL0123962527\n",
            "\t\t\t Main Menu\n",
            " 1. Withdraw money \n",
            " 2.Deposit money \n",
            " 3.Account Details. \n",
            "Enter your choice:x\n"
          ],
          "name": "stdout"
        },
        {
          "output_type": "error",
          "ename": "ValueError",
          "evalue": "ignored",
          "traceback": [
            "\u001b[0;31m---------------------------------------------------------------------------\u001b[0m",
            "\u001b[0;31mValueError\u001b[0m                                Traceback (most recent call last)",
            "\u001b[0;32m<ipython-input-6-a42dd3a3204a>\u001b[0m in \u001b[0;36m<module>\u001b[0;34m()\u001b[0m\n\u001b[1;32m     64\u001b[0m \u001b[0ms\u001b[0m \u001b[0;34m=\u001b[0m \u001b[0mBank\u001b[0m\u001b[0;34m(\u001b[0m\u001b[0;34m)\u001b[0m\u001b[0;34m\u001b[0m\u001b[0;34m\u001b[0m\u001b[0m\n\u001b[1;32m     65\u001b[0m \u001b[0ms\u001b[0m\u001b[0;34m.\u001b[0m\u001b[0mget_info\u001b[0m\u001b[0;34m(\u001b[0m\u001b[0;34m)\u001b[0m\u001b[0;34m\u001b[0m\u001b[0;34m\u001b[0m\u001b[0m\n\u001b[0;32m---> 66\u001b[0;31m \u001b[0ms\u001b[0m\u001b[0;34m.\u001b[0m\u001b[0maccount_actions\u001b[0m\u001b[0;34m(\u001b[0m\u001b[0;34m)\u001b[0m\u001b[0;34m\u001b[0m\u001b[0;34m\u001b[0m\u001b[0m\n\u001b[0m",
            "\u001b[0;32m<ipython-input-6-a42dd3a3204a>\u001b[0m in \u001b[0;36maccount_actions\u001b[0;34m(self)\u001b[0m\n\u001b[1;32m     37\u001b[0m                 \u001b[0mprint\u001b[0m\u001b[0;34m(\u001b[0m\u001b[0;34m\"You have successfully withdrawn {}rs. from your account\"\u001b[0m\u001b[0;34m.\u001b[0m\u001b[0mformat\u001b[0m\u001b[0;34m(\u001b[0m\u001b[0mwithdrawn\u001b[0m\u001b[0;34m)\u001b[0m\u001b[0;34m)\u001b[0m\u001b[0;34m\u001b[0m\u001b[0;34m\u001b[0m\u001b[0m\n\u001b[1;32m     38\u001b[0m                 \u001b[0mprint\u001b[0m\u001b[0;34m(\u001b[0m\u001b[0;34m\"Balance: {}\"\u001b[0m\u001b[0;34m.\u001b[0m\u001b[0mformat\u001b[0m\u001b[0;34m(\u001b[0m\u001b[0mself\u001b[0m\u001b[0;34m.\u001b[0m\u001b[0mbalance\u001b[0m\u001b[0;34m)\u001b[0m\u001b[0;34m)\u001b[0m\u001b[0;34m\u001b[0m\u001b[0;34m\u001b[0m\u001b[0m\n\u001b[0;32m---> 39\u001b[0;31m                 \u001b[0ms\u001b[0m\u001b[0;34m.\u001b[0m\u001b[0maccount_actions\u001b[0m\u001b[0;34m(\u001b[0m\u001b[0;34m)\u001b[0m\u001b[0;34m\u001b[0m\u001b[0;34m\u001b[0m\u001b[0m\n\u001b[0m\u001b[1;32m     40\u001b[0m             \u001b[0;32melse\u001b[0m\u001b[0;34m:\u001b[0m\u001b[0;34m\u001b[0m\u001b[0;34m\u001b[0m\u001b[0m\n\u001b[1;32m     41\u001b[0m                 \u001b[0mprint\u001b[0m\u001b[0;34m(\u001b[0m\u001b[0;34m\"Insufficient Balance \\n you only have {} amount in your account!\"\u001b[0m\u001b[0;34m.\u001b[0m\u001b[0mformat\u001b[0m\u001b[0;34m(\u001b[0m\u001b[0mself\u001b[0m\u001b[0;34m.\u001b[0m\u001b[0mbalance\u001b[0m\u001b[0;34m)\u001b[0m\u001b[0;34m)\u001b[0m\u001b[0;34m\u001b[0m\u001b[0;34m\u001b[0m\u001b[0m\n",
            "\u001b[0;32m<ipython-input-6-a42dd3a3204a>\u001b[0m in \u001b[0;36maccount_actions\u001b[0;34m(self)\u001b[0m\n\u001b[1;32m     46\u001b[0m             \u001b[0mprint\u001b[0m\u001b[0;34m(\u001b[0m\u001b[0;34m\"{}rs successfully deposited in your account\\n\"\u001b[0m\u001b[0;34m.\u001b[0m\u001b[0mformat\u001b[0m\u001b[0;34m(\u001b[0m\u001b[0mdeposit\u001b[0m\u001b[0;34m)\u001b[0m\u001b[0;34m)\u001b[0m\u001b[0;34m\u001b[0m\u001b[0;34m\u001b[0m\u001b[0m\n\u001b[1;32m     47\u001b[0m             \u001b[0mprint\u001b[0m\u001b[0;34m(\u001b[0m\u001b[0;34m\"Balance: {}\"\u001b[0m\u001b[0;34m.\u001b[0m\u001b[0mformat\u001b[0m\u001b[0;34m(\u001b[0m\u001b[0mself\u001b[0m\u001b[0;34m.\u001b[0m\u001b[0mbalance\u001b[0m\u001b[0;34m)\u001b[0m\u001b[0;34m)\u001b[0m\u001b[0;34m\u001b[0m\u001b[0;34m\u001b[0m\u001b[0m\n\u001b[0;32m---> 48\u001b[0;31m             \u001b[0ms\u001b[0m\u001b[0;34m.\u001b[0m\u001b[0maccount_actions\u001b[0m\u001b[0;34m(\u001b[0m\u001b[0;34m)\u001b[0m\u001b[0;34m\u001b[0m\u001b[0;34m\u001b[0m\u001b[0m\n\u001b[0m\u001b[1;32m     49\u001b[0m         \u001b[0;32mif\u001b[0m \u001b[0mchoice\u001b[0m \u001b[0;34m==\u001b[0m \u001b[0;36m3\u001b[0m\u001b[0;34m:\u001b[0m\u001b[0;34m\u001b[0m\u001b[0;34m\u001b[0m\u001b[0m\n\u001b[1;32m     50\u001b[0m             \u001b[0mprint\u001b[0m\u001b[0;34m(\u001b[0m\u001b[0;34m\"\\t\\t !!Verma Bank Limited!!\\n\"\u001b[0m\u001b[0;34m)\u001b[0m\u001b[0;34m\u001b[0m\u001b[0;34m\u001b[0m\u001b[0m\n",
            "\u001b[0;32m<ipython-input-6-a42dd3a3204a>\u001b[0m in \u001b[0;36maccount_actions\u001b[0;34m(self)\u001b[0m\n\u001b[1;32m     55\u001b[0m             \u001b[0mprint\u001b[0m\u001b[0;34m(\u001b[0m\u001b[0;34m\"Balance: {}\"\u001b[0m\u001b[0;34m.\u001b[0m\u001b[0mformat\u001b[0m\u001b[0;34m(\u001b[0m\u001b[0mself\u001b[0m\u001b[0;34m.\u001b[0m\u001b[0mbalance\u001b[0m\u001b[0;34m)\u001b[0m\u001b[0;34m)\u001b[0m\u001b[0;34m\u001b[0m\u001b[0;34m\u001b[0m\u001b[0m\n\u001b[1;32m     56\u001b[0m             \u001b[0mprint\u001b[0m\u001b[0;34m(\u001b[0m\u001b[0;34m\"Account number: VBL0123962527\"\u001b[0m\u001b[0;34m)\u001b[0m\u001b[0;34m\u001b[0m\u001b[0;34m\u001b[0m\u001b[0m\n\u001b[0;32m---> 57\u001b[0;31m             \u001b[0ms\u001b[0m\u001b[0;34m.\u001b[0m\u001b[0maccount_actions\u001b[0m\u001b[0;34m(\u001b[0m\u001b[0;34m)\u001b[0m\u001b[0;34m\u001b[0m\u001b[0;34m\u001b[0m\u001b[0m\n\u001b[0m\u001b[1;32m     58\u001b[0m         \u001b[0;32melse\u001b[0m\u001b[0;34m:\u001b[0m\u001b[0;34m\u001b[0m\u001b[0;34m\u001b[0m\u001b[0m\n\u001b[1;32m     59\u001b[0m \u001b[0;34m\u001b[0m\u001b[0m\n",
            "\u001b[0;32m<ipython-input-6-a42dd3a3204a>\u001b[0m in \u001b[0;36maccount_actions\u001b[0;34m(self)\u001b[0m\n\u001b[1;32m     29\u001b[0m     \u001b[0;32mdef\u001b[0m \u001b[0maccount_actions\u001b[0m\u001b[0;34m(\u001b[0m\u001b[0mself\u001b[0m\u001b[0;34m)\u001b[0m\u001b[0;34m:\u001b[0m\u001b[0;34m\u001b[0m\u001b[0;34m\u001b[0m\u001b[0m\n\u001b[1;32m     30\u001b[0m         \u001b[0mprint\u001b[0m\u001b[0;34m(\u001b[0m\u001b[0;34m\"\\t\\t\\t Main Menu\\n 1. Withdraw money \\n 2.Deposit money \\n 3.Account Details. \"\u001b[0m\u001b[0;34m)\u001b[0m\u001b[0;34m\u001b[0m\u001b[0;34m\u001b[0m\u001b[0m\n\u001b[0;32m---> 31\u001b[0;31m         \u001b[0mchoice\u001b[0m \u001b[0;34m=\u001b[0m \u001b[0mint\u001b[0m\u001b[0;34m(\u001b[0m\u001b[0minput\u001b[0m\u001b[0;34m(\u001b[0m\u001b[0;34m\"Enter your choice:\"\u001b[0m\u001b[0;34m)\u001b[0m\u001b[0;34m)\u001b[0m\u001b[0;34m\u001b[0m\u001b[0;34m\u001b[0m\u001b[0m\n\u001b[0m\u001b[1;32m     32\u001b[0m \u001b[0;34m\u001b[0m\u001b[0m\n\u001b[1;32m     33\u001b[0m         \u001b[0;32mif\u001b[0m \u001b[0mchoice\u001b[0m \u001b[0;34m==\u001b[0m \u001b[0;36m1\u001b[0m \u001b[0;34m:\u001b[0m\u001b[0;34m\u001b[0m\u001b[0;34m\u001b[0m\u001b[0m\n",
            "\u001b[0;31mValueError\u001b[0m: invalid literal for int() with base 10: 'x'"
          ]
        }
      ]
    },
    {
      "cell_type": "code",
      "metadata": {
        "id": "zpDzyNm2SYDH"
      },
      "source": [
        ""
      ],
      "execution_count": null,
      "outputs": []
    }
  ]
}
