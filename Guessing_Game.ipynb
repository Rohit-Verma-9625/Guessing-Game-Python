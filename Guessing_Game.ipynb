{
  "nbformat": 4,
  "nbformat_minor": 0,
  "metadata": {
    "kernelspec": {
      "display_name": "Python 3",
      "language": "python",
      "name": "python3"
    },
    "language_info": {
      "codemirror_mode": {
        "name": "ipython",
        "version": 3
      },
      "file_extension": ".py",
      "mimetype": "text/x-python",
      "name": "python",
      "nbconvert_exporter": "python",
      "pygments_lexer": "ipython3",
      "version": "3.8.3"
    },
    "colab": {
      "name": "Guessing_Game.ipynb",
      "provenance": [],
      "include_colab_link": true
    }
  },
  "cells": [
    {
      "cell_type": "markdown",
      "metadata": {
        "id": "view-in-github",
        "colab_type": "text"
      },
      "source": [
        "<a href=\"https://colab.research.google.com/github/Rohit-Verma-9625/Guessing-Game-Python/blob/main/Guessing_Game.ipynb\" target=\"_parent\"><img src=\"https://colab.research.google.com/assets/colab-badge.svg\" alt=\"Open In Colab\"/></a>"
      ]
    },
    {
      "cell_type": "code",
      "metadata": {
        "colab": {
          "base_uri": "https://localhost:8080/"
        },
        "id": "Tbg5a53wARuh",
        "outputId": "0d5f30ac-56cb-465e-bbff-5027a6758ed8"
      },
      "source": [
        "# Guessing Game\n",
        "# This file is written by Rohit Verma in Jupyter noteboook\n",
        "\n",
        "import random\n",
        "        \n",
        "    \n",
        "class Game():\n",
        "    \n",
        "    def intro():\n",
        "        print(\"\\t\\t!!Welcome to the Guessing Game!!\\n\\n\\n\")\n",
        "   \n",
        "    def number_func():\n",
        "        global number\n",
        "        number = random.randint(1,10)\n",
        "  \n",
        "    def guess_func():\n",
        "        global guess\n",
        "        print(\"I have choosed a number between 1 and 10 could you guess it ? \\n \")\n",
        "        guess = int(input(\"Guess the number between 1 and 10 : \"))\n",
        "        \n",
        "        if guess < 10 and guess > 0:\n",
        "             print(\"Ok! you choose {}\\n\".format(guess))\n",
        "        else:\n",
        "            return \"please enter a number between 1 and 10 only!\"\n",
        "    global count\n",
        "    count = 0\n",
        "    \n",
        "    def result():\n",
        "        global guess\n",
        "        global number\n",
        "        global count\n",
        "\n",
        "\n",
        "        while(guess != number):\n",
        "            count += 1\n",
        "            diff = guess-number\n",
        "            if diff<0:\n",
        "                print(\"Wrong Guess! I am Larger than that!\\n\\n\")\n",
        "                print(\" {} Chances Left!\\n\".format(3-count))\n",
        "                \n",
        "\n",
        "\n",
        "            if diff>0:\n",
        "                print(\"Wrong Guess! I am Smaller than that!\\n\\n\")\n",
        "                print(\" {} Chances Left!\\n\".format(3-count))\n",
        "                \n",
        "            if (count < 3):\n",
        "                guess = int(input(\"Try Again : \"))\n",
        "            else:\n",
        "                print(\"!!!Game Over!!!\\n I guessesed {}\".format(number))\n",
        "                break\n",
        "        if guess == number:\n",
        "            print(\"oh Yes! I choosed {}\".format(number))\n",
        "    \n",
        "    intro()\n",
        "    number_func()\n",
        "    guess_func()\n",
        "    result()"
      ],
      "execution_count": 1,
      "outputs": [
        {
          "output_type": "stream",
          "text": [
            "\t\t!!Welcome to the Guessing Game!!\n",
            "\n",
            "\n",
            "\n",
            "I have choosed a number between 1 and 10 could you guess it ? \n",
            " \n",
            "Guess the number between 1 and 10 : 5\n",
            "Ok! you choose 5\n",
            "\n",
            "Wrong Guess! I am Larger than that!\n",
            "\n",
            "\n",
            " 2 Chances Left!\n",
            "\n",
            "Try Again : 6\n",
            "oh Yes! I choosed 6\n"
          ],
          "name": "stdout"
        }
      ]
    },
    {
      "cell_type": "code",
      "metadata": {
        "id": "rMC2qvGNARuy"
      },
      "source": [
        ""
      ],
      "execution_count": null,
      "outputs": []
    }
  ]
}